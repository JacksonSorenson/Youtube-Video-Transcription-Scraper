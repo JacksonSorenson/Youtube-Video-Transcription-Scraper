{
 "cells": [
  {
   "cell_type": "code",
   "execution_count": 18,
   "metadata": {},
   "outputs": [],
   "source": [
    "import pandas as pd\n",
    "from youtube_transcript_api import YouTubeTranscriptApi"
   ]
  },
  {
   "cell_type": "code",
   "execution_count": 19,
   "metadata": {},
   "outputs": [
    {
     "name": "stdout",
     "output_type": "stream",
     "text": [
      "Transcriptions saved to datafunnel\n"
     ]
    }
   ],
   "source": [
    "\n",
    "\n",
    "# Video Transcription Function to fetch URL's with API\n",
    "def get_transcription(video_url):\n",
    "    try:\n",
    "        video_id = video_url.split('v=')[-1]\n",
    "        transcript = YouTubeTranscriptApi.get_transcript(video_id)\n",
    "        transcription_text = \"\\n\".join([\n",
    "            f\"[{item['start']:.2f}] {item['text']}\" for item in transcript\n",
    "        ])\n",
    "        return transcription_text\n",
    "    except Exception as e:\n",
    "        return f\"Error: {e}\"\n",
    "\n",
    "\n",
    "df = pd.read_excel(\"/Users/jacksonsorenson/Documents/Computational Media Lab/Youtube/URL/URL.xlsx\", engine=\"openpyxl\")\n",
    "df['Transcription'] = df['URL'].apply(get_transcription)\n",
    "\n",
    "# Save the results to a new CSV file\n",
    "df.to_excel(\"/Users/jacksonsorenson/Documents/Computational Media Lab/Youtube/Data Funnel/data funnel.xlsx\", index=False)\n",
    "print(\"Transcriptions saved to datafunnel\")"
   ]
  }
 ],
 "metadata": {
  "kernelspec": {
   "display_name": "Python 3",
   "language": "python",
   "name": "python3"
  },
  "language_info": {
   "codemirror_mode": {
    "name": "ipython",
    "version": 3
   },
   "file_extension": ".py",
   "mimetype": "text/x-python",
   "name": "python",
   "nbconvert_exporter": "python",
   "pygments_lexer": "ipython3",
   "version": "3.12.4"
  }
 },
 "nbformat": 4,
 "nbformat_minor": 2
}
